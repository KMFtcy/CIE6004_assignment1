{
 "cells": [
  {
   "cell_type": "code",
   "execution_count": 1,
   "metadata": {},
   "outputs": [
    {
     "name": "stdout",
     "output_type": "stream",
     "text": [
      "The dataset has been extracted.\n"
     ]
    }
   ],
   "source": [
    "# Env check\n",
    "# check dataset file exists\n",
    "import os.path\n",
    "dataset_path = 'garbage_classification.zip'\n",
    "if not os.path.isfile(dataset_path):\n",
    "    print(\"The dataset is not found. Please put it in the root of the directory and rename it as \\\"garbage_classification.zip\\\".\")\n",
    "    print(\"The link of the dataset is: https://drive.google.com/file/d/1kcwBy_yG47Mp2iyq6Oo6ACojgdXRt4Bs/view?pli=1\")\n",
    "    exit()\n",
    "\n",
    "# extract the dataset\n",
    "import zipfile\n",
    "if not os.path.exists(\"garbage_classification/\"):\n",
    "    print(\"extracting the dataset... \")\n",
    "    with zipfile.ZipFile(dataset_path, 'r') as zip_ref:\n",
    "        zip_ref.extractall(\"./\")\n",
    "print(\"The dataset has been extracted.\")"
   ]
  },
  {
   "cell_type": "code",
   "execution_count": null,
   "metadata": {},
   "outputs": [],
   "source": []
  }
 ],
 "metadata": {
  "kernelspec": {
   "display_name": "cie6004",
   "language": "python",
   "name": "python3"
  },
  "language_info": {
   "codemirror_mode": {
    "name": "ipython",
    "version": 3
   },
   "file_extension": ".py",
   "mimetype": "text/x-python",
   "name": "python",
   "nbconvert_exporter": "python",
   "pygments_lexer": "ipython3",
   "version": "3.11.5"
  },
  "orig_nbformat": 4
 },
 "nbformat": 4,
 "nbformat_minor": 2
}
